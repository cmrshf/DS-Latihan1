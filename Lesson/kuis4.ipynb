{
 "cells": [
  {
   "cell_type": "markdown",
   "id": "e8e8a182",
   "metadata": {},
   "source": [
    "# Loop Statement"
   ]
  },
  {
   "cell_type": "markdown",
   "id": "97aef56b",
   "metadata": {},
   "source": [
    "## Perulangan dengan While"
   ]
  },
  {
   "cell_type": "code",
   "execution_count": 1,
   "id": "e183d788",
   "metadata": {
    "scrolled": true
   },
   "outputs": [
    {
     "name": "stdout",
     "output_type": "stream",
     "text": [
      "merupakan perulangan yang ke- 1\n",
      "perulangan berhenti\n",
      "merupakan perulangan yang ke- 2\n",
      "perulangan berhenti\n",
      "merupakan perulangan yang ke- 3\n",
      "perulangan berhenti\n",
      "merupakan perulangan yang ke- 4\n",
      "perulangan berhenti\n",
      "merupakan perulangan yang ke- 5\n",
      "perulangan berhenti\n",
      "merupakan perulangan yang ke- 6\n",
      "perulangan berhenti\n",
      "merupakan perulangan yang ke- 7\n",
      "perulangan berhenti\n",
      "merupakan perulangan yang ke- 8\n",
      "perulangan berhenti\n",
      "merupakan perulangan yang ke- 9\n",
      "perulangan berhenti\n"
     ]
    }
   ],
   "source": [
    "ulang = 1\n",
    "while (ulang < 10):\n",
    "    print('merupakan perulangan yang ke-', ulang)\n",
    "    ulang = ulang + 1\n",
    "    print('perulangan berhenti')"
   ]
  },
  {
   "cell_type": "markdown",
   "id": "457d6e2f",
   "metadata": {},
   "source": [
    "## Perulangan dengan For"
   ]
  },
  {
   "cell_type": "code",
   "execution_count": 2,
   "id": "838b960d",
   "metadata": {},
   "outputs": [
    {
     "name": "stdout",
     "output_type": "stream",
     "text": [
      "2\n",
      "3\n",
      "5\n",
      "7\n",
      "11\n"
     ]
    }
   ],
   "source": [
    "prima = [2, 3, 5, 7, 11]\n",
    "for i in prima:\n",
    "    print(i)"
   ]
  },
  {
   "cell_type": "markdown",
   "id": "287e1cc4",
   "metadata": {},
   "source": [
    "### Latihan"
   ]
  },
  {
   "cell_type": "code",
   "execution_count": 3,
   "id": "115d6b3a",
   "metadata": {},
   "outputs": [
    {
     "name": "stdout",
     "output_type": "stream",
     "text": [
      "H\n"
     ]
    }
   ],
   "source": [
    "my_list = \"Hello World!\"\n",
    "my_list2 = my_list[:1]\n",
    "\n",
    "for i in my_list2:\n",
    "    print(i)"
   ]
  }
 ],
 "metadata": {
  "kernelspec": {
   "display_name": "Python 3 (ipykernel)",
   "language": "python",
   "name": "python3"
  },
  "language_info": {
   "codemirror_mode": {
    "name": "ipython",
    "version": 3
   },
   "file_extension": ".py",
   "mimetype": "text/x-python",
   "name": "python",
   "nbconvert_exporter": "python",
   "pygments_lexer": "ipython3",
   "version": "3.9.7"
  }
 },
 "nbformat": 4,
 "nbformat_minor": 5
}

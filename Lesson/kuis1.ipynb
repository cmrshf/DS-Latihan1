{
 "cells": [
  {
   "cell_type": "markdown",
   "id": "2ccaefdd",
   "metadata": {},
   "source": [
    "# DICTIONARY"
   ]
  },
  {
   "cell_type": "code",
   "execution_count": 1,
   "id": "4729d02f",
   "metadata": {
    "scrolled": true
   },
   "outputs": [
    {
     "data": {
      "text/plain": [
       "'Ada Apa Dengan Cinta 2'"
      ]
     },
     "execution_count": 1,
     "metadata": {},
     "output_type": "execute_result"
    }
   ],
   "source": [
    "film_list=['Dilan 1991', 'Ada Apa Dengan Cinta 2', 'Warkop DKI Reborn']\n",
    "film_list[1]"
   ]
  },
  {
   "cell_type": "code",
   "execution_count": 2,
   "id": "276883cc",
   "metadata": {
    "scrolled": false
   },
   "outputs": [
    {
     "data": {
      "text/plain": [
       "['Dilan 1991', 'Ada Apa Dengan Cinta 2']"
      ]
     },
     "execution_count": 2,
     "metadata": {},
     "output_type": "execute_result"
    }
   ],
   "source": [
    "film_list=['Dilan 1991', 'Ada Apa Dengan Cinta 2', 'Warkop DKI Reborn']\n",
    "film_list[:2]"
   ]
  },
  {
   "cell_type": "code",
   "execution_count": 3,
   "id": "12e6d680",
   "metadata": {},
   "outputs": [
    {
     "data": {
      "text/plain": [
       "'Dilan 1991'"
      ]
     },
     "execution_count": 3,
     "metadata": {},
     "output_type": "execute_result"
    }
   ],
   "source": [
    "film_dictionary = {'Fajar Bustomi': 'Dilan 1991', 'Riri Riza': 'Ada Apa Dengan Cinta 2', 'Aggi Umbara': 'Warkop DKI Reborn'}\n",
    "film_dictionary['Fajar Bustomi']"
   ]
  }
 ],
 "metadata": {
  "kernelspec": {
   "display_name": "Python 3 (ipykernel)",
   "language": "python",
   "name": "python3"
  },
  "language_info": {
   "codemirror_mode": {
    "name": "ipython",
    "version": 3
   },
   "file_extension": ".py",
   "mimetype": "text/x-python",
   "name": "python",
   "nbconvert_exporter": "python",
   "pygments_lexer": "ipython3",
   "version": "3.9.7"
  }
 },
 "nbformat": 4,
 "nbformat_minor": 5
}
